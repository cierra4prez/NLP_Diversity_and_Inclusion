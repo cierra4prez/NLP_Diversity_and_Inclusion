{
 "cells": [
  {
   "cell_type": "code",
   "execution_count": 1,
   "metadata": {
    "ExecuteTime": {
     "end_time": "2021-02-18T18:24:15.951538Z",
     "start_time": "2021-02-18T18:24:10.882020Z"
    }
   },
   "outputs": [],
   "source": [
    "import nltk\n",
    "import matplotlib.pyplot as plt\n",
    "import pandas as pd\n",
    "#from sklearn.feature_extraction.text import CountVectorizer ## TEST\n",
    "from sklearn.feature_extraction.text import TfidfVectorizer ## TEST\n",
    "from sklearn.feature_extraction.text import TfidfTransformer\n",
    "#from nltk.probability import FreqDist\n",
    "from nltk.corpus import stopwords ## TEST\n",
    "from nltk.stem import PorterStemmer\n",
    "from sklearn.metrics import confusion_matrix\n",
    "import seaborn as sns\n",
    "from sklearn.naive_bayes import MultinomialNB\n",
    "from sklearn import metrics\n",
    "from sklearn.model_selection import train_test_split\n",
    "from matplotlib import cm\n",
    "import numpy as np\n",
    "from sklearn.ensemble import RandomForestClassifier\n",
    "from sklearn.metrics import accuracy_score\n",
    "from sklearn.metrics import f1_score\n",
    "from sklearn.naive_bayes import MultinomialNB\n"
   ]
  },
  {
   "cell_type": "code",
   "execution_count": 2,
   "metadata": {
    "ExecuteTime": {
     "end_time": "2021-02-18T18:24:16.016814Z",
     "start_time": "2021-02-18T18:24:15.957433Z"
    }
   },
   "outputs": [],
   "source": [
    "from sklearn.metrics import confusion_matrix\n",
    "import seaborn as sns; sns.set()"
   ]
  },
  {
   "cell_type": "code",
   "execution_count": 3,
   "metadata": {
    "ExecuteTime": {
     "end_time": "2021-02-18T18:24:16.247544Z",
     "start_time": "2021-02-18T18:24:16.183586Z"
    },
    "scrolled": true
   },
   "outputs": [],
   "source": [
    "#loading in cleaned data for analysis\n",
    "X_lem = pd.read_pickle('modeling/X_lem.pkl')\n",
    "y_lem = pd.read_pickle('modeling/y_lem.pkl')\n",
    "\n",
    "#loading stop word list\n",
    "sw_list = pd.read_pickle('modeling/stopwords.pkl')"
   ]
  },
  {
   "cell_type": "code",
   "execution_count": 4,
   "metadata": {
    "ExecuteTime": {
     "end_time": "2021-02-18T18:24:16.324179Z",
     "start_time": "2021-02-18T18:24:16.280026Z"
    }
   },
   "outputs": [
    {
     "data": {
      "text/plain": [
       "'leader sector tackle toughest challenge grow startup improve early education quickly enter market serve organization size ranging smalltomidsized revenue le year top forbes list office practice eight functional practice private sector serve government weve completed project social sector organization last five mean whatever passion find others working similar topic mckinsey know want know want come mckinsey explore visit career website learn apply subscribe career blog weekly job alert story colleague twofold distinctive lasting substantial improvement performance build firm attracts develops excites retains exceptional element strongly connected helping solve toughest problem requires drawn matter together supportive dedicated colleague'"
      ]
     },
     "execution_count": 4,
     "metadata": {},
     "output_type": "execute_result"
    }
   ],
   "source": [
    "X_lem[0]"
   ]
  },
  {
   "cell_type": "markdown",
   "metadata": {},
   "source": [
    "## Baseline Random Forest\n",
    "- Random Forest with Lemmatization, trigrams\n",
    "- **try also with BoW instead of TF-IDF??**\n",
    "- **try also with Stemming instead of Lemmatization??** \n",
    "\n",
    "Results before additional preprocessing:\n",
    "- Testing Accuracy: 0.5441\n",
    "- Testing Precision: 0.5703\n",
    "- Testing Recall: 0.6881\n",
    "- F1 Score: 0.6237\n",
    "- ngram_range=(1,3)"
   ]
  },
  {
   "cell_type": "markdown",
   "metadata": {},
   "source": [
    "*Train-Test Split*"
   ]
  },
  {
   "cell_type": "code",
   "execution_count": 5,
   "metadata": {
    "ExecuteTime": {
     "end_time": "2021-02-18T18:24:16.360906Z",
     "start_time": "2021-02-18T18:24:16.335766Z"
    }
   },
   "outputs": [],
   "source": [
    "# always train-test split THEN apply vectorizer \n",
    "X_train_lem, X_test_lem, y_train_lem, y_test_lem = train_test_split(X_lem, y_lem, test_size=0.20, random_state=42)\n"
   ]
  },
  {
   "cell_type": "code",
   "execution_count": 6,
   "metadata": {
    "ExecuteTime": {
     "end_time": "2021-02-18T18:24:16.408696Z",
     "start_time": "2021-02-18T18:24:16.367542Z"
    }
   },
   "outputs": [
    {
     "name": "stdout",
     "output_type": "stream",
     "text": [
      "NOTE: Null Accuracy is 0.441\n"
     ]
    }
   ],
   "source": [
    "null_accuracy = round(y_test_lem.value_counts()[0]/y_test_lem.value_counts().sum(), 4)\n",
    "print('NOTE: Null Accuracy is', null_accuracy)"
   ]
  },
  {
   "cell_type": "markdown",
   "metadata": {},
   "source": [
    "*Vectorize*"
   ]
  },
  {
   "cell_type": "code",
   "execution_count": 7,
   "metadata": {
    "ExecuteTime": {
     "end_time": "2021-02-18T18:24:20.767553Z",
     "start_time": "2021-02-18T18:24:16.418935Z"
    }
   },
   "outputs": [],
   "source": [
    "#Vectorize Test Set\n",
    "tfidf = TfidfVectorizer(stop_words=sw_list, ngram_range=(1,3)) ## TEST bigram/trigram\n",
    "\n",
    "#fit vectorizer to both training and testing set\n",
    "tfidf_data_train_lem = tfidf.fit_transform(X_train_lem)\n",
    "tfidf_data_test_lem = tfidf.transform(X_test_lem)"
   ]
  },
  {
   "cell_type": "markdown",
   "metadata": {},
   "source": [
    "*Model*"
   ]
  },
  {
   "cell_type": "code",
   "execution_count": 8,
   "metadata": {
    "ExecuteTime": {
     "end_time": "2021-02-18T18:24:21.028806Z",
     "start_time": "2021-02-18T18:24:21.004419Z"
    }
   },
   "outputs": [],
   "source": [
    "rf_classifier_lem = RandomForestClassifier(n_estimators=120, random_state=42)"
   ]
  },
  {
   "cell_type": "code",
   "execution_count": 9,
   "metadata": {
    "ExecuteTime": {
     "end_time": "2021-02-18T18:24:21.079870Z",
     "start_time": "2021-02-18T18:24:21.071762Z"
    }
   },
   "outputs": [],
   "source": [
    "# rf_classifier_lem = RandomForestClassifier(n_estimators=100, \n",
    "#                                            max_depth=35, \n",
    "#                                            max_features=2, \n",
    "#                                            min_samples_leaf=1,\n",
    "#                                            min_samples_split=10, \n",
    "#                                            random_state=42)"
   ]
  },
  {
   "cell_type": "code",
   "execution_count": 10,
   "metadata": {
    "ExecuteTime": {
     "end_time": "2021-02-18T18:24:41.775872Z",
     "start_time": "2021-02-18T18:24:21.090069Z"
    }
   },
   "outputs": [],
   "source": [
    "## Fit model to train set\n",
    "rf_classifier_lem.fit(tfidf_data_train_lem, y_train_lem)\n",
    "\n",
    "# Predictions\n",
    "rf_test_preds_lem = rf_classifier_lem.predict(tfidf_data_test_lem)\n",
    "rf_train_preds_lem = rf_classifier_lem.predict(tfidf_data_train_lem)"
   ]
  },
  {
   "cell_type": "markdown",
   "metadata": {},
   "source": [
    "*Evaluate Metrics*"
   ]
  },
  {
   "cell_type": "code",
   "execution_count": 11,
   "metadata": {
    "ExecuteTime": {
     "end_time": "2021-02-18T18:24:42.033642Z",
     "start_time": "2021-02-18T18:24:41.780468Z"
    }
   },
   "outputs": [
    {
     "name": "stdout",
     "output_type": "stream",
     "text": [
      "Random Forest with Lemmatization Features:\n",
      "\n",
      "Testing Accuracy: 0.5803\n",
      "F1 Score: 0.6747\n",
      "Training Accuracy: 1.0\n"
     ]
    }
   ],
   "source": [
    "#(ngram=1,3)\n",
    "rf_acc_score_lem = accuracy_score(y_test_lem, rf_test_preds_lem)\n",
    "rf_precision_score_lem = metrics.precision_score(y_test_lem, rf_test_preds_lem)\n",
    "rf_recall_score_lem = metrics.recall_score(y_test_lem, rf_test_preds_lem)\n",
    "rf_f1_score_lem = f1_score(y_test_lem, rf_test_preds_lem)\n",
    "\n",
    "print('Random Forest with Lemmatization Features:\\n')\n",
    "print(\"Testing Accuracy: {:.4}\".format(rf_acc_score_lem))\n",
    "# print(\"Testing Precision: {:.4}\".format(rf_precision_score_lem))\n",
    "# print(\"Testing Recall: {:.4}\".format(rf_recall_score_lem))\n",
    "print(\"F1 Score: {:.4}\".format(rf_f1_score_lem))\n",
    "\n",
    "rf_train_accuracy = accuracy_score(y_train_lem, rf_train_preds_lem)\n",
    "print(\"Training Accuracy: {:.4}\".format(rf_train_accuracy))"
   ]
  },
  {
   "cell_type": "code",
   "execution_count": 12,
   "metadata": {
    "ExecuteTime": {
     "end_time": "2021-02-18T18:24:42.800896Z",
     "start_time": "2021-02-18T18:24:42.072313Z"
    },
    "code_folding": [],
    "scrolled": true
   },
   "outputs": [
    {
     "name": "stdout",
     "output_type": "stream",
     "text": [
      "Random Forest\n"
     ]
    },
    {
     "data": {
      "image/png": "[encoded data removed]",
      "text/plain": [
       "<Figure size 432x288 with 1 Axes>"
      ]
     },
     "metadata": {},
     "output_type": "display_data"
    }
   ],
   "source": [
    "from sklearn.metrics import confusion_matrix\n",
    "import seaborn as sns; sns.set()\n",
    "\n",
    "print('Random Forest')\n",
    "\n",
    "mat = confusion_matrix(y_test_lem, rf_test_preds_lem)\n",
    "sns.heatmap(mat.T, square=True, annot=True, fmt='d', cbar=False,\n",
    "            xticklabels=['Not_Inclusive', 'Inclusive'], \n",
    "            yticklabels=['Not_Inclusive', 'Inclusive']\n",
    "           )\n",
    "plt.xlabel('true label')\n",
    "plt.ylabel('predicted label');\n",
    "\n",
    "## Fixing cut-off bug\n",
    "b, t = plt.ylim() # discover the values for bottom and top\n",
    "b += 0.5 # Add 0.5 to the bottom\n",
    "t -= 0.5 # Subtract 0.5 from the top\n",
    "plt.ylim(b, t) # update the ylim(bottom, top) values\n",
    "\n",
    "plt.show()\n",
    "\n",
    "#plt.savefig('images/2_RF_model_gridsearch.png')\n"
   ]
  },
  {
   "cell_type": "markdown",
   "metadata": {},
   "source": [
    "## Baseline Logistic Regression\n",
    "\n",
    "- Testing Accuracy: 0.5938\n",
    "- F1 Score: 0.6847\n",
    "- ngram_range=(1,3)\n",
    "\n",
    "Training Accuracy: 1.0"
   ]
  },
  {
   "cell_type": "code",
   "execution_count": 13,
   "metadata": {
    "ExecuteTime": {
     "end_time": "2021-02-18T18:24:42.867135Z",
     "start_time": "2021-02-18T18:24:42.836017Z"
    }
   },
   "outputs": [],
   "source": [
    "# Train-test split\n",
    "X_train_lem, X_test_lem, y_train_lem, y_test_lem = train_test_split(X_lem, y_lem, test_size=0.20, random_state=42)\n"
   ]
  },
  {
   "cell_type": "markdown",
   "metadata": {},
   "source": [
    "**Vectorize**"
   ]
  },
  {
   "cell_type": "code",
   "execution_count": 14,
   "metadata": {
    "ExecuteTime": {
     "end_time": "2021-02-18T18:24:47.925983Z",
     "start_time": "2021-02-18T18:24:42.873899Z"
    }
   },
   "outputs": [],
   "source": [
    "# Vectorize Test Set\n",
    "tfidf = TfidfVectorizer(stop_words=sw_list, ngram_range=(1,3))\n",
    "\n",
    "#fit vectorizer to both training and testing set\n",
    "tfidf_data_train_lem = tfidf.fit_transform(X_train_lem)\n",
    "tfidf_data_test_lem = tfidf.transform(X_test_lem)"
   ]
  },
  {
   "cell_type": "code",
   "execution_count": 15,
   "metadata": {
    "ExecuteTime": {
     "end_time": "2021-02-18T18:24:48.021075Z",
     "start_time": "2021-02-18T18:24:47.934161Z"
    }
   },
   "outputs": [],
   "source": [
    "## Run below code to perform a grid search of optimal parameters\n",
    "# from sklearn.model_selection import train_test_split, GridSearchCV\n",
    "\n",
    "# log_reg = LogisticRegression()\n",
    "# log_param_grid = {\n",
    "#     'C' : [40,45,50,55,60],\n",
    "#     'penalty': ['l1', 'l2']\n",
    "# }\n",
    "\n",
    "# log_grid_search = GridSearchCV(log_reg, log_param_grid, cv=3, verbose=True, n_jobs=-1)\n",
    "# log_grid_search.fit(tfidf_data_train_lem, y_train_lem)\n",
    "\n",
    "# print(log_grid_search.best_params_) \n",
    "# print(log_grid_search.best_score_)"
   ]
  },
  {
   "cell_type": "markdown",
   "metadata": {},
   "source": [
    "Best parameters according to gridsearch: {'C': 50, 'penalty': 'l2'}\n",
    "0.5719"
   ]
  },
  {
   "cell_type": "markdown",
   "metadata": {},
   "source": [
    "**Model**"
   ]
  },
  {
   "cell_type": "code",
   "execution_count": 16,
   "metadata": {
    "ExecuteTime": {
     "end_time": "2021-02-18T18:24:48.046341Z",
     "start_time": "2021-02-18T18:24:48.030345Z"
    }
   },
   "outputs": [],
   "source": [
    "from sklearn.linear_model import LogisticRegression\n",
    "\n",
    "###work with c= (bigger number = less regulization), check out solver\n",
    "log_reg_baseline = LogisticRegression(C=50,\n",
    "                                      random_state=42)"
   ]
  },
  {
   "cell_type": "code",
   "execution_count": 17,
   "metadata": {
    "ExecuteTime": {
     "end_time": "2021-02-18T18:24:58.695574Z",
     "start_time": "2021-02-18T18:24:48.058035Z"
    },
    "scrolled": true
   },
   "outputs": [],
   "source": [
    "#fit model to train set\n",
    "log_reg_baseline.fit(tfidf_data_train_lem, y_train_lem)\n",
    "\n",
    "#predictions\n",
    "log_reg_test_preds = log_reg_baseline.predict(tfidf_data_test_lem)\n",
    "log_reg_train_preds = log_reg_baseline.predict(tfidf_data_train_lem)"
   ]
  },
  {
   "cell_type": "markdown",
   "metadata": {},
   "source": [
    "**Resulting Metrics**"
   ]
  },
  {
   "cell_type": "code",
   "execution_count": 18,
   "metadata": {
    "ExecuteTime": {
     "end_time": "2021-02-18T18:24:58.845775Z",
     "start_time": "2021-02-18T18:24:58.770815Z"
    },
    "scrolled": true
   },
   "outputs": [
    {
     "name": "stdout",
     "output_type": "stream",
     "text": [
      "Logistic Regression with Lemmatization Features:\n",
      "\n",
      "Testing Accuracy: 0.5938\n",
      "Testing Precision: 0.6048\n",
      "Testing Recall: 0.7889\n",
      "F1 Score: 0.6847\n",
      "\n",
      "Training Accuracy: 1.0\n"
     ]
    }
   ],
   "source": [
    "log_reg_accuracy = accuracy_score(y_test_lem, log_reg_test_preds)\n",
    "log_reg_precision = metrics.precision_score(y_test_lem, log_reg_test_preds)\n",
    "log_reg_recall = metrics.recall_score(y_test_lem, log_reg_test_preds)\n",
    "log_reg_f1 = f1_score(y_test_lem, log_reg_test_preds)\n",
    "\n",
    "\n",
    "# printing scores\n",
    "print('Logistic Regression with Lemmatization Features:\\n')\n",
    "print(\"Testing Accuracy: {:.4}\".format(log_reg_accuracy))\n",
    "print(\"Testing Precision: {:.4}\".format(log_reg_precision))\n",
    "print(\"Testing Recall: {:.4}\".format(log_reg_recall))\n",
    "print(\"F1 Score: {:.4}\".format(log_reg_f1))\n",
    "\n",
    "print()\n",
    "log_train_accuracy = accuracy_score(y_train_lem, log_reg_train_preds)\n",
    "print(\"Training Accuracy: {:.4}\".format(log_train_accuracy))"
   ]
  },
  {
   "cell_type": "code",
   "execution_count": 45,
   "metadata": {
    "ExecuteTime": {
     "end_time": "2021-02-18T18:29:21.809432Z",
     "start_time": "2021-02-18T18:29:21.460469Z"
    }
   },
   "outputs": [
    {
     "name": "stdout",
     "output_type": "stream",
     "text": [
      "Logistic Regression\n"
     ]
    },
    {
     "data": {
      "image/png": "[encoded data removed]",
      "text/plain": [
       "<Figure size 432x288 with 1 Axes>"
      ]
     },
     "metadata": {},
     "output_type": "display_data"
    }
   ],
   "source": [
    "from sklearn.metrics import confusion_matrix\n",
    "import seaborn as sns; sns.set()\n",
    "\n",
    "print(\"Logistic Regression\")\n",
    "\n",
    "fig,ax = plt.subplots()\n",
    "\n",
    "mat = confusion_matrix(y_test_lem, log_reg_test_preds)\n",
    "sns.heatmap(mat.T, square=True, annot=True, fmt='d', cbar=False,\n",
    "            xticklabels=['Not_Inclusive', 'Inclusive'], \n",
    "            yticklabels=['Not_Inclusive', 'Inclusive']\n",
    "           )\n",
    "plt.xlabel('true label')\n",
    "plt.ylabel('predicted label');\n",
    "\n",
    "## Fixing cut-off bug\n",
    "b, t = plt.ylim() # discover the values for bottom and top\n",
    "b += 0.5 # Add 0.5 to the bottom\n",
    "t -= 0.5 # Subtract 0.5 from the top\n",
    "plt.ylim(b, t) # update the ylim(bottom, top) values\n",
    "\n",
    "# Style\n",
    "fig.patch.set_facecolor('moccasin')\n",
    "fig.patch.set_alpha(0.9)\n",
    "plt.tight_layout(pad=1)\n",
    "\n",
    "plt.savefig('images/3_log_reg_model.png')\n",
    "\n",
    "plt.show()\n",
    "\n",
    "\n"
   ]
  },
  {
   "cell_type": "markdown",
   "metadata": {
    "heading_collapsed": true
   },
   "source": [
    "## Naive Bayes\n",
    "Naive Bayes with Lemmatization Features:\n",
    "\n",
    "- Testing Accuracy: 0.5888\n",
    "- F1 Score: 0.7305\n",
    "\n",
    "- Training Accuracy: 0.7787"
   ]
  },
  {
   "cell_type": "code",
   "execution_count": 20,
   "metadata": {
    "ExecuteTime": {
     "end_time": "2021-02-18T18:24:59.583219Z",
     "start_time": "2021-02-18T18:24:59.567201Z"
    },
    "hidden": true
   },
   "outputs": [],
   "source": [
    "# Train-test split\n",
    "X_train_lem, X_test_lem, y_train_lem, y_test_lem = train_test_split(X_lem, y_lem, test_size=0.20, random_state=42)\n"
   ]
  },
  {
   "cell_type": "markdown",
   "metadata": {
    "hidden": true
   },
   "source": [
    "**Vectorize**"
   ]
  },
  {
   "cell_type": "code",
   "execution_count": 21,
   "metadata": {
    "ExecuteTime": {
     "end_time": "2021-02-18T18:25:00.488623Z",
     "start_time": "2021-02-18T18:24:59.593055Z"
    },
    "hidden": true
   },
   "outputs": [],
   "source": [
    "# Vectorize Test Set\n",
    "tfidf = TfidfVectorizer(stop_words=sw_list)\n",
    "\n",
    "#fit vectorizer to both training and testing set\n",
    "tfidf_data_train_lem = tfidf.fit_transform(X_train_lem)\n",
    "tfidf_data_test_lem = tfidf.transform(X_test_lem)"
   ]
  },
  {
   "cell_type": "markdown",
   "metadata": {
    "hidden": true
   },
   "source": [
    "**Model**"
   ]
  },
  {
   "cell_type": "code",
   "execution_count": 22,
   "metadata": {
    "ExecuteTime": {
     "end_time": "2021-02-18T18:25:00.519093Z",
     "start_time": "2021-02-18T18:25:00.491440Z"
    },
    "hidden": true
   },
   "outputs": [],
   "source": [
    "# Instantiate and fit model:\n",
    "nb_classifier = MultinomialNB()\n",
    "nb_classifier.fit(tfidf_data_train_lem, y_train_lem)\n",
    "\n",
    "# Predictions:\n",
    "nb_train_preds = nb_classifier.predict(tfidf_data_train_lem)\n",
    "nb_test_preds = nb_classifier.predict(tfidf_data_test_lem)"
   ]
  },
  {
   "cell_type": "markdown",
   "metadata": {
    "hidden": true
   },
   "source": [
    "**Resulting Metrics**"
   ]
  },
  {
   "cell_type": "code",
   "execution_count": 23,
   "metadata": {
    "ExecuteTime": {
     "end_time": "2021-02-18T18:25:00.599545Z",
     "start_time": "2021-02-18T18:25:00.547026Z"
    },
    "hidden": true
   },
   "outputs": [
    {
     "name": "stdout",
     "output_type": "stream",
     "text": [
      "Naive Bayes with Lemmatization Features:\n",
      "\n",
      "Testing Accuracy: 0.5725\n",
      "F1 Score: 0.7206\n",
      "\n",
      "Training Accuracy: 0.7436\n"
     ]
    }
   ],
   "source": [
    "nb_accuracy = accuracy_score(y_test_lem, nb_test_preds)\n",
    "nb_precision = metrics.precision_score(y_test_lem, nb_test_preds)\n",
    "nb_recall = metrics.recall_score(y_test_lem, nb_test_preds)\n",
    "nb_f1 = f1_score(y_test_lem, nb_test_preds)\n",
    "\n",
    "nb_train_accuracy = accuracy_score(y_train_lem, nb_train_preds)\n",
    "\n",
    "# printing scores\n",
    "print('Naive Bayes with Lemmatization Features:\\n')\n",
    "print(\"Testing Accuracy: {:.4}\".format(nb_accuracy))\n",
    "# print(\"Testing Precision: {:.4}\".format(nb_precision))\n",
    "# print(\"Testing Recall: {:.4}\".format(nb_recall))\n",
    "print(\"F1 Score: {:.4}\".format(nb_f1))\n",
    "print()\n",
    "print(\"Training Accuracy: {:.4}\".format(nb_train_accuracy))"
   ]
  },
  {
   "cell_type": "code",
   "execution_count": 24,
   "metadata": {
    "ExecuteTime": {
     "end_time": "2021-02-18T18:25:00.902682Z",
     "start_time": "2021-02-18T18:25:00.612952Z"
    },
    "hidden": true
   },
   "outputs": [
    {
     "name": "stdout",
     "output_type": "stream",
     "text": [
      "Naive Bayes\n"
     ]
    },
    {
     "data": {
      "image/png": "[encoded data removed]",
      "text/plain": [
       "<Figure size 432x288 with 1 Axes>"
      ]
     },
     "metadata": {},
     "output_type": "display_data"
    }
   ],
   "source": [
    "# Confusion matrix\n",
    "print('Naive Bayes')\n",
    "\n",
    "mat = confusion_matrix(y_test_lem, nb_test_preds)\n",
    "sns.heatmap(mat.T, square=True, annot=True, fmt='d', cbar=False,\n",
    "            xticklabels=['Not_Inclusive', 'Inclusive'], \n",
    "            yticklabels=['Not_Inclusive', 'Inclusive']\n",
    "           )\n",
    "plt.xlabel('true label')\n",
    "plt.ylabel('predicted label');\n",
    "\n",
    "## Fixing cut-off bug\n",
    "b, t = plt.ylim() # discover the values for bottom and top\n",
    "b += 0.5 # Add 0.5 to the bottom\n",
    "t -= 0.5 # Subtract 0.5 from the top\n",
    "plt.ylim(b, t) # update the ylim(bottom, top) values\n",
    "\n",
    "plt.show()\n",
    "\n",
    "# Uncomment below code to save plot\n",
    "#plt.savefig('images/4_nb_model.png')"
   ]
  },
  {
   "cell_type": "markdown",
   "metadata": {
    "heading_collapsed": true
   },
   "source": [
    "## LSTM -Unfinished (next steps)"
   ]
  },
  {
   "cell_type": "code",
   "execution_count": 25,
   "metadata": {
    "ExecuteTime": {
     "end_time": "2021-02-18T18:25:00.916158Z",
     "start_time": "2021-02-18T18:25:00.909101Z"
    },
    "hidden": true
   },
   "outputs": [],
   "source": [
    "#! pip install gensim"
   ]
  },
  {
   "cell_type": "code",
   "execution_count": 26,
   "metadata": {
    "ExecuteTime": {
     "end_time": "2021-02-18T18:25:01.369517Z",
     "start_time": "2021-02-18T18:25:00.922439Z"
    },
    "hidden": true
   },
   "outputs": [],
   "source": [
    "import pandas as pd\n",
    "import numpy as np\n",
    "\n",
    "from gensim.models import Word2Vec\n",
    "from nltk import word_tokenize"
   ]
  },
  {
   "cell_type": "code",
   "execution_count": 27,
   "metadata": {
    "ExecuteTime": {
     "end_time": "2021-02-18T18:25:01.399175Z",
     "start_time": "2021-02-18T18:25:01.372775Z"
    },
    "hidden": true,
    "scrolled": true
   },
   "outputs": [],
   "source": [
    "# loading in data\n",
    "data_clean = pd.read_pickle('modeling/data_clean.pkl')"
   ]
  },
  {
   "cell_type": "code",
   "execution_count": 28,
   "metadata": {
    "ExecuteTime": {
     "end_time": "2021-02-18T18:25:05.148226Z",
     "start_time": "2021-02-18T18:25:01.402681Z"
    },
    "hidden": true,
    "scrolled": true
   },
   "outputs": [],
   "source": [
    "X_nn = data_clean.apply(lambda x: word_tokenize(x))"
   ]
  },
  {
   "cell_type": "code",
   "execution_count": 29,
   "metadata": {
    "ExecuteTime": {
     "end_time": "2021-02-18T18:25:05.190901Z",
     "start_time": "2021-02-18T18:25:05.151049Z"
    },
    "hidden": true
   },
   "outputs": [],
   "source": [
    "# Train-test split\n",
    "X_train_nn, X_test_nn, y_train_nn, y_test_nn = train_test_split(X_nn, y_lem, test_size=0.20, random_state=42)\n"
   ]
  },
  {
   "cell_type": "code",
   "execution_count": 30,
   "metadata": {
    "ExecuteTime": {
     "end_time": "2021-02-18T18:25:06.564111Z",
     "start_time": "2021-02-18T18:25:05.200917Z"
    },
    "hidden": true
   },
   "outputs": [],
   "source": [
    "# Vectorize Test Set\n",
    "tfidf = TfidfVectorizer(stop_words=sw_list)\n",
    "\n",
    "#fit vectorizer to both training and testing set\n",
    "tfidf_data_train_lem = tfidf.fit_transform(X_train_lem)\n",
    "tfidf_data_test_lem = tfidf.transform(X_test_lem)"
   ]
  },
  {
   "cell_type": "code",
   "execution_count": 31,
   "metadata": {
    "ExecuteTime": {
     "end_time": "2021-02-18T18:25:12.117280Z",
     "start_time": "2021-02-18T18:25:06.576444Z"
    },
    "hidden": true
   },
   "outputs": [],
   "source": [
    "#Create a Word2Vec model\n",
    "model = Word2Vec(X_test_nn, size=100, window=5, min_count=1, workers=4)"
   ]
  },
  {
   "cell_type": "code",
   "execution_count": 32,
   "metadata": {
    "ExecuteTime": {
     "end_time": "2021-02-18T18:25:13.039126Z",
     "start_time": "2021-02-18T18:25:12.120685Z"
    },
    "hidden": true
   },
   "outputs": [
    {
     "data": {
      "text/plain": [
       "(147589, 186741)"
      ]
     },
     "execution_count": 32,
     "metadata": {},
     "output_type": "execute_result"
    }
   ],
   "source": [
    "model.train(X_test_nn, total_examples=model.corpus_count, epochs=3) #try 10"
   ]
  },
  {
   "cell_type": "code",
   "execution_count": 33,
   "metadata": {
    "ExecuteTime": {
     "end_time": "2021-02-18T18:25:13.071137Z",
     "start_time": "2021-02-18T18:25:13.045753Z"
    },
    "hidden": true,
    "scrolled": true
   },
   "outputs": [
    {
     "data": {
      "text/plain": [
       "2099    [appriss, provides, proprietary, data, and, an...\n",
       "435     [mississippi, state, university, msu, has, an,...\n",
       "1729    [shiftgig, is, technology, company, that, help...\n",
       "321     [academy, is, near, the, head, of, the, class,...\n",
       "2582    [limelight, networks, wants, to, be, the, cent...\n",
       "                              ...                        \n",
       "1610    [scream, you, scream, we, all, scream, for, st...\n",
       "48      [stanford, is, one, of, the, world, leading, r...\n",
       "1910    [as, the, largest, civil, rights, organization...\n",
       "1103    [with, more, than, years, of, experience, we, ...\n",
       "707     [in, new, balance, began, as, humble, oneman, ...\n",
       "Name: CLEAN_DESCRIPTION, Length: 517, dtype: object"
      ]
     },
     "execution_count": 33,
     "metadata": {},
     "output_type": "execute_result"
    }
   ],
   "source": [
    "X_test_nn"
   ]
  },
  {
   "cell_type": "code",
   "execution_count": 34,
   "metadata": {
    "ExecuteTime": {
     "end_time": "2021-02-18T18:25:13.083322Z",
     "start_time": "2021-02-18T18:25:13.076060Z"
    },
    "hidden": true
   },
   "outputs": [],
   "source": [
    "wv = model.wv"
   ]
  },
  {
   "cell_type": "code",
   "execution_count": 35,
   "metadata": {
    "ExecuteTime": {
     "end_time": "2021-02-18T18:25:13.097111Z",
     "start_time": "2021-02-18T18:25:13.090325Z"
    },
    "hidden": true
   },
   "outputs": [],
   "source": [
    "# get the data paths\n",
    "train_path = y_test_nn\n",
    "#valid_path = os.path.join(data_path, \"ptb.valid.txt\")\n",
    "test_path = X_test_nn"
   ]
  },
  {
   "cell_type": "code",
   "execution_count": null,
   "metadata": {
    "hidden": true
   },
   "outputs": [],
   "source": []
  },
  {
   "cell_type": "code",
   "execution_count": null,
   "metadata": {
    "hidden": true
   },
   "outputs": [],
   "source": []
  },
  {
   "cell_type": "code",
   "execution_count": null,
   "metadata": {
    "hidden": true
   },
   "outputs": [],
   "source": []
  },
  {
   "cell_type": "code",
   "execution_count": null,
   "metadata": {
    "hidden": true
   },
   "outputs": [],
   "source": []
  },
  {
   "cell_type": "code",
   "execution_count": null,
   "metadata": {
    "hidden": true
   },
   "outputs": [],
   "source": []
  },
  {
   "cell_type": "code",
   "execution_count": null,
   "metadata": {
    "hidden": true
   },
   "outputs": [],
   "source": []
  },
  {
   "cell_type": "markdown",
   "metadata": {
    "hidden": true
   },
   "source": [
    "NOTES:"
   ]
  },
  {
   "cell_type": "code",
   "execution_count": 36,
   "metadata": {
    "ExecuteTime": {
     "end_time": "2021-02-18T18:25:13.107445Z",
     "start_time": "2021-02-18T18:25:13.103056Z"
    },
    "hidden": true,
    "scrolled": true
   },
   "outputs": [],
   "source": [
    "# #Initializing the classifier Network\n",
    "# sq = Sequential()\n",
    "\n",
    "# #Adding the input LSTM network layer\n",
    "# sq.add(LSTM(128, input_shape=(X_train_nn.shape[1:]), return_sequences=True))###\n",
    "# sq.add(Dropout(0.2))"
   ]
  },
  {
   "cell_type": "code",
   "execution_count": 37,
   "metadata": {
    "ExecuteTime": {
     "end_time": "2021-02-18T18:25:13.118794Z",
     "start_time": "2021-02-18T18:25:13.112720Z"
    },
    "hidden": true
   },
   "outputs": [],
   "source": [
    "# #Adding a second LSTM network layer\n",
    "# sq.add(LSTM(128))\n",
    "\n",
    "# #Adding a dense hidden layer\n",
    "# sq.add(Dense(64, activation='relu'))\n",
    "# sq.add(Dropout(0.2))\n",
    "\n",
    "# #Adding the output layer\n",
    "# sq.add(Dense(10, activation='softmax'))"
   ]
  },
  {
   "cell_type": "code",
   "execution_count": 38,
   "metadata": {
    "ExecuteTime": {
     "end_time": "2021-02-18T18:25:13.134272Z",
     "start_time": "2021-02-18T18:25:13.123678Z"
    },
    "hidden": true
   },
   "outputs": [],
   "source": [
    "# #Compiling the network\n",
    "# sq.compile( loss='sparse_categorical_crossentropy',\n",
    "#               optimizer=Adam(lr=0.001, decay=1e-6),\n",
    "#               metrics=['accuracy'] )\n",
    "\n",
    "# #Fitting the data to the model\n",
    "# sq.fit(X_train_lem,\n",
    "#          y_train_lem,\n",
    "#           epochs=3,\n",
    "#           validation_data=(X_test_lem, y_test_lem))"
   ]
  },
  {
   "cell_type": "code",
   "execution_count": 39,
   "metadata": {
    "ExecuteTime": {
     "end_time": "2021-02-18T18:25:13.148165Z",
     "start_time": "2021-02-18T18:25:13.140187Z"
    },
    "hidden": true
   },
   "outputs": [],
   "source": [
    "# test_loss, test_acc = sq.evaluate(X_test_lem, y_test_lem)\n",
    "# print('Test Loss: {}'.format(test_loss))\n",
    "# print('Test Accuracy: {}'.format(test_acc))"
   ]
  }
 ],
 "metadata": {
  "kernelspec": {
   "display_name": "Python 3",
   "language": "python",
   "name": "python3"
  },
  "language_info": {
   "codemirror_mode": {
    "name": "ipython",
    "version": 3
   },
   "file_extension": ".py",
   "mimetype": "text/x-python",
   "name": "python",
   "nbconvert_exporter": "python",
   "pygments_lexer": "ipython3",
   "version": "3.6.9"
  },
  "toc": {
   "base_numbering": 1,
   "nav_menu": {},
   "number_sections": true,
   "sideBar": true,
   "skip_h1_title": false,
   "title_cell": "Table of Contents",
   "title_sidebar": "Contents",
   "toc_cell": false,
   "toc_position": {},
   "toc_section_display": true,
   "toc_window_display": false
  }
 },
 "nbformat": 4,
 "nbformat_minor": 4
}
